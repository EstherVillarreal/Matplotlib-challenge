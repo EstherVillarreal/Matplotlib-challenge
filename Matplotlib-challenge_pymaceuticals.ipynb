{
 "cells": [
  {
   "cell_type": "markdown",
   "metadata": {},
   "source": [
    "## Observations and Insights"
   ]
  },
  {
   "cell_type": "markdown",
   "metadata": {},
   "source": [
    "1. The Capomulin treatment decreases the tumor volume over time for Mouse b128.\n",
    "\n",
    "2. The Capomulin and Ramicane treatments have the smaller sample SEM, indicating that their mean is closer to the population mean. \n",
    "\n",
    "3. the Box plot of the Final Tumor Volume shows that the Infubinol treatment has an outlier."
   ]
  },
  {
   "cell_type": "markdown",
   "metadata": {},
   "source": [
    "## Dependencies and starter code"
   ]
  },
  {
   "cell_type": "code",
   "execution_count": 1,
   "metadata": {},
   "outputs": [
    {
     "data": {
      "text/html": [
       "<div>\n",
       "<style scoped>\n",
       "    .dataframe tbody tr th:only-of-type {\n",
       "        vertical-align: middle;\n",
       "    }\n",
       "\n",
       "    .dataframe tbody tr th {\n",
       "        vertical-align: top;\n",
       "    }\n",
       "\n",
       "    .dataframe thead th {\n",
       "        text-align: right;\n",
       "    }\n",
       "</style>\n",
       "<table border=\"1\" class=\"dataframe\">\n",
       "  <thead>\n",
       "    <tr style=\"text-align: right;\">\n",
       "      <th></th>\n",
       "      <th>Mouse ID</th>\n",
       "      <th>Drug Regimen</th>\n",
       "      <th>Sex</th>\n",
       "      <th>Age_months</th>\n",
       "      <th>Weight (g)</th>\n",
       "      <th>Timepoint</th>\n",
       "      <th>Tumor Volume (mm3)</th>\n",
       "      <th>Metastatic Sites</th>\n",
       "    </tr>\n",
       "  </thead>\n",
       "  <tbody>\n",
       "    <tr>\n",
       "      <td>0</td>\n",
       "      <td>k403</td>\n",
       "      <td>Ramicane</td>\n",
       "      <td>Male</td>\n",
       "      <td>21</td>\n",
       "      <td>16</td>\n",
       "      <td>0</td>\n",
       "      <td>45.000000</td>\n",
       "      <td>0</td>\n",
       "    </tr>\n",
       "    <tr>\n",
       "      <td>1</td>\n",
       "      <td>k403</td>\n",
       "      <td>Ramicane</td>\n",
       "      <td>Male</td>\n",
       "      <td>21</td>\n",
       "      <td>16</td>\n",
       "      <td>5</td>\n",
       "      <td>38.825898</td>\n",
       "      <td>0</td>\n",
       "    </tr>\n",
       "    <tr>\n",
       "      <td>2</td>\n",
       "      <td>k403</td>\n",
       "      <td>Ramicane</td>\n",
       "      <td>Male</td>\n",
       "      <td>21</td>\n",
       "      <td>16</td>\n",
       "      <td>10</td>\n",
       "      <td>35.014271</td>\n",
       "      <td>1</td>\n",
       "    </tr>\n",
       "    <tr>\n",
       "      <td>3</td>\n",
       "      <td>k403</td>\n",
       "      <td>Ramicane</td>\n",
       "      <td>Male</td>\n",
       "      <td>21</td>\n",
       "      <td>16</td>\n",
       "      <td>15</td>\n",
       "      <td>34.223992</td>\n",
       "      <td>1</td>\n",
       "    </tr>\n",
       "    <tr>\n",
       "      <td>4</td>\n",
       "      <td>k403</td>\n",
       "      <td>Ramicane</td>\n",
       "      <td>Male</td>\n",
       "      <td>21</td>\n",
       "      <td>16</td>\n",
       "      <td>20</td>\n",
       "      <td>32.997729</td>\n",
       "      <td>1</td>\n",
       "    </tr>\n",
       "  </tbody>\n",
       "</table>\n",
       "</div>"
      ],
      "text/plain": [
       "  Mouse ID Drug Regimen   Sex  Age_months  Weight (g)  Timepoint  \\\n",
       "0     k403     Ramicane  Male          21          16          0   \n",
       "1     k403     Ramicane  Male          21          16          5   \n",
       "2     k403     Ramicane  Male          21          16         10   \n",
       "3     k403     Ramicane  Male          21          16         15   \n",
       "4     k403     Ramicane  Male          21          16         20   \n",
       "\n",
       "   Tumor Volume (mm3)  Metastatic Sites  \n",
       "0           45.000000                 0  \n",
       "1           38.825898                 0  \n",
       "2           35.014271                 1  \n",
       "3           34.223992                 1  \n",
       "4           32.997729                 1  "
      ]
     },
     "execution_count": 1,
     "metadata": {},
     "output_type": "execute_result"
    }
   ],
   "source": [
    "# Dependencies and Setup\n",
    "import matplotlib.pyplot as plt\n",
    "import pandas as pd\n",
    "import scipy.stats as st\n",
    "from scipy.stats import linregress\n",
    "\n",
    "# Study data files\n",
    "mouse_metadata = \"Mouse_metadata.csv\"\n",
    "study_results = \"Study_results.csv\"\n",
    "\n",
    "# Read the mouse data and the study results\n",
    "mouse_metadata = pd.read_csv(mouse_metadata)\n",
    "study_results = pd.read_csv(study_results)\n",
    "\n",
    "# Combine the data into a single dataset\n",
    "results = pd.merge(mouse_metadata,study_results)\n",
    "results.head()"
   ]
  },
  {
   "cell_type": "markdown",
   "metadata": {},
   "source": [
    "## Summary statistics"
   ]
  },
  {
   "cell_type": "code",
   "execution_count": 2,
   "metadata": {},
   "outputs": [
    {
     "data": {
      "text/html": [
       "<div>\n",
       "<style scoped>\n",
       "    .dataframe tbody tr th:only-of-type {\n",
       "        vertical-align: middle;\n",
       "    }\n",
       "\n",
       "    .dataframe tbody tr th {\n",
       "        vertical-align: top;\n",
       "    }\n",
       "\n",
       "    .dataframe thead th {\n",
       "        text-align: right;\n",
       "    }\n",
       "</style>\n",
       "<table border=\"1\" class=\"dataframe\">\n",
       "  <thead>\n",
       "    <tr style=\"text-align: right;\">\n",
       "      <th></th>\n",
       "      <th>Mean</th>\n",
       "      <th>Median</th>\n",
       "      <th>Variance</th>\n",
       "      <th>Standard deviation</th>\n",
       "      <th>SEM</th>\n",
       "    </tr>\n",
       "    <tr>\n",
       "      <th>Drug Regimen</th>\n",
       "      <th></th>\n",
       "      <th></th>\n",
       "      <th></th>\n",
       "      <th></th>\n",
       "      <th></th>\n",
       "    </tr>\n",
       "  </thead>\n",
       "  <tbody>\n",
       "    <tr>\n",
       "      <td>Capomulin</td>\n",
       "      <td>40.68</td>\n",
       "      <td>41.56</td>\n",
       "      <td>24.95</td>\n",
       "      <td>4.99</td>\n",
       "      <td>41.56</td>\n",
       "    </tr>\n",
       "    <tr>\n",
       "      <td>Ceftamin</td>\n",
       "      <td>52.59</td>\n",
       "      <td>51.78</td>\n",
       "      <td>39.29</td>\n",
       "      <td>6.27</td>\n",
       "      <td>51.78</td>\n",
       "    </tr>\n",
       "    <tr>\n",
       "      <td>Infubinol</td>\n",
       "      <td>52.88</td>\n",
       "      <td>51.82</td>\n",
       "      <td>43.13</td>\n",
       "      <td>6.57</td>\n",
       "      <td>51.82</td>\n",
       "    </tr>\n",
       "    <tr>\n",
       "      <td>Ketapril</td>\n",
       "      <td>55.24</td>\n",
       "      <td>53.70</td>\n",
       "      <td>68.55</td>\n",
       "      <td>8.28</td>\n",
       "      <td>53.70</td>\n",
       "    </tr>\n",
       "    <tr>\n",
       "      <td>Naftisol</td>\n",
       "      <td>54.33</td>\n",
       "      <td>52.51</td>\n",
       "      <td>66.17</td>\n",
       "      <td>8.13</td>\n",
       "      <td>52.51</td>\n",
       "    </tr>\n",
       "    <tr>\n",
       "      <td>Placebo</td>\n",
       "      <td>54.03</td>\n",
       "      <td>52.29</td>\n",
       "      <td>61.17</td>\n",
       "      <td>7.82</td>\n",
       "      <td>52.29</td>\n",
       "    </tr>\n",
       "    <tr>\n",
       "      <td>Propriva</td>\n",
       "      <td>52.32</td>\n",
       "      <td>50.85</td>\n",
       "      <td>42.35</td>\n",
       "      <td>6.51</td>\n",
       "      <td>50.85</td>\n",
       "    </tr>\n",
       "    <tr>\n",
       "      <td>Ramicane</td>\n",
       "      <td>40.22</td>\n",
       "      <td>40.67</td>\n",
       "      <td>23.49</td>\n",
       "      <td>4.85</td>\n",
       "      <td>40.67</td>\n",
       "    </tr>\n",
       "    <tr>\n",
       "      <td>Stelasyn</td>\n",
       "      <td>54.23</td>\n",
       "      <td>52.43</td>\n",
       "      <td>59.45</td>\n",
       "      <td>7.71</td>\n",
       "      <td>52.43</td>\n",
       "    </tr>\n",
       "    <tr>\n",
       "      <td>Zoniferol</td>\n",
       "      <td>53.24</td>\n",
       "      <td>51.82</td>\n",
       "      <td>48.53</td>\n",
       "      <td>6.97</td>\n",
       "      <td>51.82</td>\n",
       "    </tr>\n",
       "  </tbody>\n",
       "</table>\n",
       "</div>"
      ],
      "text/plain": [
       "               Mean Median Variance Standard deviation    SEM\n",
       "Drug Regimen                                                 \n",
       "Capomulin     40.68  41.56    24.95               4.99  41.56\n",
       "Ceftamin      52.59  51.78    39.29               6.27  51.78\n",
       "Infubinol     52.88  51.82    43.13               6.57  51.82\n",
       "Ketapril      55.24  53.70    68.55               8.28  53.70\n",
       "Naftisol      54.33  52.51    66.17               8.13  52.51\n",
       "Placebo       54.03  52.29    61.17               7.82  52.29\n",
       "Propriva      52.32  50.85    42.35               6.51  50.85\n",
       "Ramicane      40.22  40.67    23.49               4.85  40.67\n",
       "Stelasyn      54.23  52.43    59.45               7.71  52.43\n",
       "Zoniferol     53.24  51.82    48.53               6.97  51.82"
      ]
     },
     "execution_count": 2,
     "metadata": {},
     "output_type": "execute_result"
    }
   ],
   "source": [
    "# Generate a summary statistics table of mean, median, variance, standard deviation, and SEM of the tumor volume for each regimen\n",
    "#Tumor Volume (mm3)\n",
    "regimen = results.groupby(\"Drug Regimen\")\n",
    "\n",
    "tumor_mean = regimen[\"Tumor Volume (mm3)\"].mean()\n",
    "tumor_med = regimen[\"Tumor Volume (mm3)\"].median()\n",
    "tumor_var = regimen[\"Tumor Volume (mm3)\"].var()\n",
    "tumor_std = regimen[\"Tumor Volume (mm3)\"].std()\n",
    "tumor_sem = regimen[\"Tumor Volume (mm3)\"].sem()\n",
    "\n",
    "summary_tumor = pd.DataFrame({\"Mean\" : tumor_mean,\n",
    "                             \"Median\" : tumor_med,\n",
    "                            \"Variance\" : tumor_var,\n",
    "                            \"Standard deviation\" : tumor_std,\n",
    "                            \"SEM\" : tumor_med})\n",
    "\n",
    "summary_tumor[\"Mean\"] = summary_tumor[\"Mean\"].map(\"{:.2f}\".format)\n",
    "summary_tumor[\"Median\"] = summary_tumor[\"Median\"].map(\"{:.2f}\".format)\n",
    "summary_tumor[\"Variance\"] = summary_tumor[\"Variance\"].map(\"{:.2f}\".format)\n",
    "summary_tumor[\"Standard deviation\"] = summary_tumor[\"Standard deviation\"].map(\"{:.2f}\".format)\n",
    "summary_tumor[\"SEM\"] = summary_tumor[\"SEM\"].map(\"{:.2f}\".format)\n",
    "\n",
    "summary_tumor"
   ]
  },
  {
   "cell_type": "markdown",
   "metadata": {},
   "source": [
    "## Bar plots"
   ]
  },
  {
   "cell_type": "code",
   "execution_count": 3,
   "metadata": {},
   "outputs": [
    {
     "data": {
      "image/png": "[encoded data removed]",
      "text/plain": [
       "<Figure size 432x288 with 1 Axes>"
      ]
     },
     "metadata": {
      "needs_background": "light"
     },
     "output_type": "display_data"
    }
   ],
   "source": [
    "# Generate a bar plot showing number of data points for each treatment regimen using pandas\n",
    "\n",
    "data_points = regimen['Drug Regimen'].count()\n",
    "\n",
    "data_points.plot(kind='bar', facecolor=\"purple\", width = 0.5)\n",
    "\n",
    "plt.title('Treatments')\n",
    "plt.xlabel('Drug Regimen')\n",
    "plt.ylabel('Tumor Volume (mm3)')\n",
    "plt.show()"
   ]
  },
  {
   "cell_type": "code",
   "execution_count": 4,
   "metadata": {},
   "outputs": [
    {
     "data": {
      "text/plain": [
       "([0, 1, 2, 3, 4, 5, 6, 7, 8, 9], <a list of 10 Text xticklabel objects>)"
      ]
     },
     "execution_count": 4,
     "metadata": {},
     "output_type": "execute_result"
    },
    {
     "data": {
      "image/png": "[encoded data removed]",
      "text/plain": [
       "<Figure size 432x288 with 1 Axes>"
      ]
     },
     "metadata": {
      "needs_background": "light"
     },
     "output_type": "display_data"
    }
   ],
   "source": [
    "# Generate a bar plot showing number of data points for each treatment regimen using pyplot\n",
    "x_axis = regimen.groups.keys()\n",
    "x_axis \n",
    "\n",
    "plt.bar(x_axis, data_points, facecolor=\"purple\", width = 0.5)\n",
    "plt.title(\"Treatments\")\n",
    "plt.ylabel('Tumor Volume (mm3)')\n",
    "plt.xlabel('Drug Regimen')\n",
    "plt.xlim(-0.75, len(x_axis)-0.25)\n",
    "plt.ylim(0, max(data_points)+20)\n",
    "plt.xticks(rotation = 90)"
   ]
  },
  {
   "cell_type": "markdown",
   "metadata": {},
   "source": [
    "## Pie plots"
   ]
  },
  {
   "cell_type": "code",
   "execution_count": 22,
   "metadata": {},
   "outputs": [
    {
     "data": {
      "text/html": [
       "<div>\n",
       "<style scoped>\n",
       "    .dataframe tbody tr th:only-of-type {\n",
       "        vertical-align: middle;\n",
       "    }\n",
       "\n",
       "    .dataframe tbody tr th {\n",
       "        vertical-align: top;\n",
       "    }\n",
       "\n",
       "    .dataframe thead th {\n",
       "        text-align: right;\n",
       "    }\n",
       "</style>\n",
       "<table border=\"1\" class=\"dataframe\">\n",
       "  <thead>\n",
       "    <tr style=\"text-align: right;\">\n",
       "      <th></th>\n",
       "      <th>Sex</th>\n",
       "    </tr>\n",
       "  </thead>\n",
       "  <tbody>\n",
       "    <tr>\n",
       "      <td>Male</td>\n",
       "      <td>958</td>\n",
       "    </tr>\n",
       "    <tr>\n",
       "      <td>Female</td>\n",
       "      <td>935</td>\n",
       "    </tr>\n",
       "  </tbody>\n",
       "</table>\n",
       "</div>"
      ],
      "text/plain": [
       "        Sex\n",
       "Male    958\n",
       "Female  935"
      ]
     },
     "execution_count": 22,
     "metadata": {},
     "output_type": "execute_result"
    }
   ],
   "source": [
    "# Generate a pie plot showing the distribution of female versus male mice using pandas\n",
    "gender = pd.DataFrame(results[\"Sex\"].value_counts())\n",
    "\n",
    "gender"
   ]
  },
  {
   "cell_type": "code",
   "execution_count": 9,
   "metadata": {},
   "outputs": [
    {
     "data": {
      "text/plain": [
       "Text(0.5, 1.0, 'Distribution of female versus male mice')"
      ]
     },
     "execution_count": 9,
     "metadata": {},
     "output_type": "execute_result"
    },
    {
     "data": {
      "image/png": "[encoded data removed]",
      "text/plain": [
       "<Figure size 432x288 with 1 Axes>"
      ]
     },
     "metadata": {},
     "output_type": "display_data"
    }
   ],
   "source": [
    "# Labels for the sections of our pie chart\n",
    "labels = [\"Male\", \"Female\"]\n",
    "\n",
    "# The values of each section of the pie chart\n",
    "sizes = [958, 935]\n",
    "\n",
    "# The colors of each section of the pie chart\n",
    "colors = [\"yellow\", \"magenta\"]\n",
    "\n",
    "# Tells matplotlib to seperate the sections \n",
    "explode = (0.2,0)\n",
    "\n",
    "plt.pie(sizes, explode=explode, labels=labels, colors=colors, autopct=\"%1.1f%%\", shadow=True, startangle=90)\n",
    "plt.legend()\n",
    "plt.title(\"Distribution of female versus male mice\")"
   ]
  },
  {
   "cell_type": "code",
   "execution_count": 10,
   "metadata": {},
   "outputs": [
    {
     "name": "stderr",
     "output_type": "stream",
     "text": [
      "/Users/esthervillarreal/opt/anaconda3/lib/python3.7/site-packages/ipykernel_launcher.py:9: MatplotlibDeprecationWarning: Non-1D inputs to pie() are currently squeeze()d, but this behavior is deprecated since 3.1 and will be removed in 3.3; pass a 1D array instead.\n",
      "  if __name__ == '__main__':\n"
     ]
    },
    {
     "data": {
      "text/plain": [
       "Text(0.5, 1.0, 'Distribution of female versus male mice')"
      ]
     },
     "execution_count": 10,
     "metadata": {},
     "output_type": "execute_result"
    },
    {
     "data": {
      "image/png": "[encoded data removed]",
      "text/plain": [
       "<Figure size 432x288 with 1 Axes>"
      ]
     },
     "metadata": {},
     "output_type": "display_data"
    }
   ],
   "source": [
    "# Generate a pie plot showing the distribution of female versus male mice using pyplot\n",
    "\n",
    "gender = pd.DataFrame(results[\"Sex\"].value_counts())\n",
    "labels = [\"Male\", \"Female\"]\n",
    "colors = [\"yellow\", \"magenta\"]\n",
    "\n",
    "\n",
    "explode = (.2,0)\n",
    "plt.pie(gender, explode=explode, colors=colors, labels=labels, autopct=\"%1.2f%%\", shadow=False, startangle=90)\n",
    "plt.legend()\n",
    "plt.title('Distribution of female versus male mice')"
   ]
  },
  {
   "cell_type": "markdown",
   "metadata": {},
   "source": [
    "## Quartiles, outliers and boxplots"
   ]
  },
  {
   "cell_type": "code",
   "execution_count": 11,
   "metadata": {},
   "outputs": [
    {
     "data": {
      "text/html": [
       "<div>\n",
       "<style scoped>\n",
       "    .dataframe tbody tr th:only-of-type {\n",
       "        vertical-align: middle;\n",
       "    }\n",
       "\n",
       "    .dataframe tbody tr th {\n",
       "        vertical-align: top;\n",
       "    }\n",
       "\n",
       "    .dataframe thead th {\n",
       "        text-align: right;\n",
       "    }\n",
       "</style>\n",
       "<table border=\"1\" class=\"dataframe\">\n",
       "  <thead>\n",
       "    <tr style=\"text-align: right;\">\n",
       "      <th></th>\n",
       "      <th>Drug Regimen</th>\n",
       "      <th>Mouse ID</th>\n",
       "      <th>Final Tumor Volume (mm3)</th>\n",
       "    </tr>\n",
       "  </thead>\n",
       "  <tbody>\n",
       "    <tr>\n",
       "      <td>0</td>\n",
       "      <td>Capomulin</td>\n",
       "      <td>b128</td>\n",
       "      <td>38.982878</td>\n",
       "    </tr>\n",
       "    <tr>\n",
       "      <td>1</td>\n",
       "      <td>Capomulin</td>\n",
       "      <td>b742</td>\n",
       "      <td>38.939633</td>\n",
       "    </tr>\n",
       "    <tr>\n",
       "      <td>2</td>\n",
       "      <td>Capomulin</td>\n",
       "      <td>f966</td>\n",
       "      <td>30.485985</td>\n",
       "    </tr>\n",
       "    <tr>\n",
       "      <td>3</td>\n",
       "      <td>Capomulin</td>\n",
       "      <td>g288</td>\n",
       "      <td>37.074024</td>\n",
       "    </tr>\n",
       "    <tr>\n",
       "      <td>4</td>\n",
       "      <td>Capomulin</td>\n",
       "      <td>g316</td>\n",
       "      <td>40.159220</td>\n",
       "    </tr>\n",
       "    <tr>\n",
       "      <td>...</td>\n",
       "      <td>...</td>\n",
       "      <td>...</td>\n",
       "      <td>...</td>\n",
       "    </tr>\n",
       "    <tr>\n",
       "      <td>244</td>\n",
       "      <td>Zoniferol</td>\n",
       "      <td>q633</td>\n",
       "      <td>70.827796</td>\n",
       "    </tr>\n",
       "    <tr>\n",
       "      <td>245</td>\n",
       "      <td>Zoniferol</td>\n",
       "      <td>s337</td>\n",
       "      <td>62.109651</td>\n",
       "    </tr>\n",
       "    <tr>\n",
       "      <td>246</td>\n",
       "      <td>Zoniferol</td>\n",
       "      <td>w140</td>\n",
       "      <td>47.717952</td>\n",
       "    </tr>\n",
       "    <tr>\n",
       "      <td>247</td>\n",
       "      <td>Zoniferol</td>\n",
       "      <td>w575</td>\n",
       "      <td>68.401286</td>\n",
       "    </tr>\n",
       "    <tr>\n",
       "      <td>248</td>\n",
       "      <td>Zoniferol</td>\n",
       "      <td>x613</td>\n",
       "      <td>48.077646</td>\n",
       "    </tr>\n",
       "  </tbody>\n",
       "</table>\n",
       "<p>249 rows × 3 columns</p>\n",
       "</div>"
      ],
      "text/plain": [
       "    Drug Regimen Mouse ID  Final Tumor Volume (mm3)\n",
       "0      Capomulin     b128                 38.982878\n",
       "1      Capomulin     b742                 38.939633\n",
       "2      Capomulin     f966                 30.485985\n",
       "3      Capomulin     g288                 37.074024\n",
       "4      Capomulin     g316                 40.159220\n",
       "..           ...      ...                       ...\n",
       "244    Zoniferol     q633                 70.827796\n",
       "245    Zoniferol     s337                 62.109651\n",
       "246    Zoniferol     w140                 47.717952\n",
       "247    Zoniferol     w575                 68.401286\n",
       "248    Zoniferol     x613                 48.077646\n",
       "\n",
       "[249 rows x 3 columns]"
      ]
     },
     "execution_count": 11,
     "metadata": {},
     "output_type": "execute_result"
    }
   ],
   "source": [
    "#Most promising treatment.\n",
    "\n",
    "final_tumor_vol = results.groupby(['Drug Regimen', 'Mouse ID'])\n",
    "final_num = final_tumor_vol['Tumor Volume (mm3)'].last()\n",
    "final_tumor_vol_summary = pd.DataFrame({'Final Tumor Volume (mm3)': final_num})\n",
    "final_tumor_vol_summary.reset_index()"
   ]
  },
  {
   "cell_type": "code",
   "execution_count": 13,
   "metadata": {},
   "outputs": [],
   "source": [
    "#Four most promising treatment regimens: Capomulin, Ramicane, Infubinol, and Ceftamin\n",
    "results_capomulin = final_tumor_vol_summary.loc['Capomulin']\n",
    "results_ramicane = final_tumor_vol_summary.loc['Ramicane']\n",
    "results_infubinol = final_tumor_vol_summary.loc['Infubinol']\n",
    "results_ceftamin = final_tumor_vol_summary.loc['Ceftamin']"
   ]
  },
  {
   "cell_type": "code",
   "execution_count": 14,
   "metadata": {},
   "outputs": [
    {
     "name": "stdout",
     "output_type": "stream",
     "text": [
      "For Capomulin: \n",
      "The lower quartile of Tumor Volume (mm3) is: 32.38\n",
      "The upper quartile of Tumor Volume (mm3) is: 40.16\n",
      "The interquartile range of Tumor Volume (mm3) is: 7.78\n",
      "The the median of Tumor Volume (mm3) is: 38.13 \n",
      "Values below 20.71 could be outliers.\n",
      "Values above 51.83 could be outliers.\n",
      "-------------------------------------------------\n",
      "For Ramicane: \n",
      "The lower quartile of Tumor Volume (mm3) is: 31.56\n",
      "The upper quartile of Tumor Volume (mm3) is: 40.66\n",
      "The interquartile range of Tumor Volume (mm3) is: 9.1\n",
      "The the median of Tumor Volume (mm3) is: 36.56 \n",
      "Values below 17.91 could be outliers.\n",
      "Values above 54.31 could be outliers.\n",
      "-------------------------------------------------\n",
      "For Infubinol: \n",
      "The lower quartile of Tumor Volume (mm3) is: 54.05\n",
      "The upper quartile of Tumor Volume (mm3) is: 65.53\n",
      "The interquartile range of Tumor Volume (mm3) is: 11.48\n",
      "The the median of Tumor Volume (mm3) is: 60.17 \n",
      "Values below 36.83 could be outliers.\n",
      "Values above 82.75 could be outliers.\n",
      "-------------------------------------------------\n",
      "For Ceftamin: \n",
      "The lower quartile of Tumor Volume (mm3) is: 48.72\n",
      "The upper quartile of Tumor Volume (mm3) is: 64.3\n",
      "The interquartile range of Tumor Volume (mm3) is: 15.58\n",
      "The the median of Tumor Volume (mm3) is: 59.85 \n",
      "Values below 25.35 could be outliers.\n",
      "Values above 87.67 could be outliers.\n",
      "-------------------------------------------------\n"
     ]
    }
   ],
   "source": [
    "#Calculate the final tumor volume of each mouse across four of the most promising treatment regimens. \n",
    "#Calculate the IQR and quantitatively determine if there are any potential outliers. \n",
    "\n",
    "#Capomulin\n",
    "\n",
    "quartiles_capomulin = results_capomulin[\"Final Tumor Volume (mm3)\"].quantile([0.25,0.5,.75])\n",
    "lowerq_capomulin = round(quartiles_capomulin[0.25],2)\n",
    "upperq_capomulin = round(quartiles_capomulin[0.75],2)\n",
    "median_capomulin = round(quartiles_capomulin[0.5],2)\n",
    "iqr_capomulin = round(upperq_capomulin-lowerq_capomulin,2)\n",
    "\n",
    "print(f\"For Capomulin: \")\n",
    "print(f\"The lower quartile of Tumor Volume (mm3) is: {lowerq_capomulin}\")\n",
    "print(f\"The upper quartile of Tumor Volume (mm3) is: {upperq_capomulin}\")\n",
    "print(f\"The interquartile range of Tumor Volume (mm3) is: {iqr_capomulin}\")\n",
    "print(f\"The the median of Tumor Volume (mm3) is: {median_capomulin} \")\n",
    "\n",
    "lower_bound_capomulin = round(lowerq_capomulin - (1.5*iqr_capomulin),3)\n",
    "upper_bound_capomulin = round(upperq_capomulin + (1.5*iqr_capomulin),3)\n",
    "print(f\"Values below {lower_bound_capomulin} could be outliers.\")\n",
    "print(f\"Values above {upper_bound_capomulin} could be outliers.\")\n",
    "\n",
    "print(\"-------------------------------------------------\")\n",
    "\n",
    "#Ramicane\n",
    "quartiles_ramicane = results_ramicane[\"Final Tumor Volume (mm3)\"].quantile([0.25,0.5,.75])\n",
    "lowerq_ramicane = round(quartiles_ramicane[0.25],2)\n",
    "upperq_ramicane = round(quartiles_ramicane[0.75],2)\n",
    "median_ramicane = round(quartiles_ramicane[0.5],2)\n",
    "iqr_ramicane = round(upperq_ramicane-lowerq_ramicane,2)\n",
    "\n",
    "print(f\"For Ramicane: \")\n",
    "print(f\"The lower quartile of Tumor Volume (mm3) is: {lowerq_ramicane}\")\n",
    "print(f\"The upper quartile of Tumor Volume (mm3) is: {upperq_ramicane}\")\n",
    "print(f\"The interquartile range of Tumor Volume (mm3) is: {iqr_ramicane}\")\n",
    "print(f\"The the median of Tumor Volume (mm3) is: {median_ramicane} \")\n",
    "\n",
    "lower_bound_ramicane = round(lowerq_ramicane - (1.5*iqr_ramicane),3)\n",
    "upper_bound_ramicane = round(upperq_ramicane + (1.5*iqr_ramicane),3)\n",
    "print(f\"Values below {lower_bound_ramicane} could be outliers.\")\n",
    "print(f\"Values above {upper_bound_ramicane} could be outliers.\")\n",
    "\n",
    "print(\"-------------------------------------------------\")\n",
    "\n",
    "#Infubinol\n",
    "quartiles_infubinol = results_infubinol[\"Final Tumor Volume (mm3)\"].quantile([0.25,0.5,.75])\n",
    "lowerq_infubinol = round(quartiles_infubinol[0.25],2)\n",
    "upperq_infubinol = round(quartiles_infubinol[0.75],2)\n",
    "median_infubinol = round(quartiles_infubinol[0.5],2)\n",
    "iqr_infubinol = round(upperq_infubinol-lowerq_infubinol,2)\n",
    "\n",
    "print(f\"For Infubinol: \")\n",
    "print(f\"The lower quartile of Tumor Volume (mm3) is: {lowerq_infubinol}\")\n",
    "print(f\"The upper quartile of Tumor Volume (mm3) is: {upperq_infubinol}\")\n",
    "print(f\"The interquartile range of Tumor Volume (mm3) is: {iqr_infubinol}\")\n",
    "print(f\"The the median of Tumor Volume (mm3) is: {median_infubinol} \")\n",
    "\n",
    "lower_bound_infubinol = round(lowerq_infubinol - (1.5*iqr_infubinol),3)\n",
    "upper_bound_infubinol = round(upperq_infubinol + (1.5*iqr_infubinol),3)\n",
    "print(f\"Values below {lower_bound_infubinol} could be outliers.\")\n",
    "print(f\"Values above {upper_bound_infubinol} could be outliers.\")\n",
    "\n",
    "print(\"-------------------------------------------------\")\n",
    "\n",
    "#Ceftamin\n",
    "quartiles_ceftamin = results_ceftamin[\"Final Tumor Volume (mm3)\"].quantile([0.25,0.5,.75])\n",
    "lowerq_ceftamin = round(quartiles_ceftamin[0.25],2)\n",
    "upperq_ceftamin = round(quartiles_ceftamin[0.75],2)\n",
    "median_ceftamin = round(quartiles_ceftamin[0.5],2)\n",
    "iqr_ceftamin = round(upperq_ceftamin-lowerq_ceftamin,2)\n",
    "\n",
    "print(f\"For Ceftamin: \")\n",
    "print(f\"The lower quartile of Tumor Volume (mm3) is: {lowerq_ceftamin}\")\n",
    "print(f\"The upper quartile of Tumor Volume (mm3) is: {upperq_ceftamin}\")\n",
    "print(f\"The interquartile range of Tumor Volume (mm3) is: {iqr_ceftamin}\")\n",
    "print(f\"The the median of Tumor Volume (mm3) is: {median_ceftamin} \")\n",
    "\n",
    "lower_bound_ceftamin = round(lowerq_ceftamin - (1.5*iqr_ceftamin),3)\n",
    "upper_bound_ceftamin = round(upperq_ceftamin + (1.5*iqr_ceftamin),3)\n",
    "print(f\"Values below {lower_bound_ceftamin} could be outliers.\")\n",
    "print(f\"Values above {upper_bound_ceftamin} could be outliers.\")\n",
    "\n",
    "print(\"-------------------------------------------------\")"
   ]
  },
  {
   "cell_type": "code",
   "execution_count": 15,
   "metadata": {},
   "outputs": [
    {
     "data": {
      "image/png": "[encoded data removed]",
      "text/plain": [
       "<Figure size 432x288 with 1 Axes>"
      ]
     },
     "metadata": {
      "needs_background": "light"
     },
     "output_type": "display_data"
    }
   ],
   "source": [
    "# Generate a box plot of the final tumor volume of each mouse across four regimens of interest\n",
    "fig, ax = plt.subplots()\n",
    "ax.set_title(\"Final Tumnor Volume\")\n",
    "ax.set_ylabel(\"Tumor Volume (mm3)\")\n",
    "red_outliers = dict(markerfacecolor='r', marker='o')\n",
    "ax.boxplot([results_capomulin[\"Final Tumor Volume (mm3)\"], \n",
    "             results_ramicane[\"Final Tumor Volume (mm3)\"], \n",
    "             results_infubinol[\"Final Tumor Volume (mm3)\"],\n",
    "             results_ceftamin[\"Final Tumor Volume (mm3)\"]], flierprops=red_outliers)\n",
    "positions = (1, 2, 3, 4)\n",
    "labels = (\"Capomulin\", \"Ramicane\", \"Infubinol\", \"Ceftamin\")\n",
    "plt.xticks(positions, labels)\n",
    "plt.show()"
   ]
  },
  {
   "cell_type": "markdown",
   "metadata": {},
   "source": [
    "## Line and scatter plots"
   ]
  },
  {
   "cell_type": "code",
   "execution_count": 16,
   "metadata": {},
   "outputs": [
    {
     "data": {
      "text/plain": [
       "Text(0.5, 0, 'Timepoint (days)')"
      ]
     },
     "execution_count": 16,
     "metadata": {},
     "output_type": "execute_result"
    },
    {
     "data": {
      "image/png": "[encoded data removed]",
      "text/plain": [
       "<Figure size 432x288 with 1 Axes>"
      ]
     },
     "metadata": {
      "needs_background": "light"
     },
     "output_type": "display_data"
    }
   ],
   "source": [
    "# Generate a line plot of time point versus tumor volume for a mouse treated with Capomulin\n",
    "mouse_results = results.set_index('Mouse ID')\n",
    "mouse_results.head()\n",
    "one_mouse = mouse_results.loc['b128']\n",
    "\n",
    "time = one_mouse['Timepoint']\n",
    "vol = one_mouse['Tumor Volume (mm3)']\n",
    "\n",
    "plt.plot(time,vol)\n",
    "plt.title(\"Capomulin Treatment of Mouse b128\")\n",
    "plt.ylabel('Tumor Volume (mm3)')\n",
    "plt.xlabel('Timepoint (days)')"
   ]
  },
  {
   "cell_type": "code",
   "execution_count": 17,
   "metadata": {},
   "outputs": [
    {
     "data": {
      "text/plain": [
       "Text(0.5, 0, 'Weight (g)')"
      ]
     },
     "execution_count": 17,
     "metadata": {},
     "output_type": "execute_result"
    },
    {
     "data": {
      "image/png": "[encoded data removed]",
      "text/plain": [
       "<Figure size 432x288 with 1 Axes>"
      ]
     },
     "metadata": {
      "needs_background": "light"
     },
     "output_type": "display_data"
    }
   ],
   "source": [
    "# Generate a scatter plot of mouse weight versus average tumor volume for the Capomulin regimen\n",
    "avg_vol = final_tumor_vol['Tumor Volume (mm3)'].mean()\n",
    "first_weight = final_tumor_vol['Weight (g)'].first()\n",
    "avg_tumor_vol_summary = pd.DataFrame({'Avg Tumor Volume (mm3)': avg_vol,\n",
    "                                      'Weight (g)': first_weight})\n",
    "avg_tumor_vol_summary.reset_index()\n",
    "\n",
    "scatter_data = avg_tumor_vol_summary.loc['Capomulin']\n",
    "\n",
    "mouse_weight = scatter_data['Weight (g)']\n",
    "avg_vols = scatter_data['Avg Tumor Volume (mm3)']\n",
    "\n",
    "plt.scatter(mouse_weight, avg_vols)\n",
    "plt.title(\"Capomulin Weight vs Average Tumor Volume\")\n",
    "plt.ylabel('Average Tumor Volume (mm3)')\n",
    "plt.xlabel('Weight (g)')"
   ]
  },
  {
   "cell_type": "code",
   "execution_count": 18,
   "metadata": {},
   "outputs": [
    {
     "name": "stdout",
     "output_type": "stream",
     "text": [
      "The correlation coefficient between both factors is 0.84.\n"
     ]
    },
    {
     "data": {
      "image/png": "[encoded data removed]",
      "text/plain": [
       "<Figure size 432x288 with 1 Axes>"
      ]
     },
     "metadata": {
      "needs_background": "light"
     },
     "output_type": "display_data"
    }
   ],
   "source": [
    "# Calculate the correlation coefficient and linear regression model for mouse weight and average tumor volume for the Capomulin regimen\n",
    "correlation = st.pearsonr(mouse_weight, avg_vols)\n",
    "print(f\"The correlation coefficient between both factors is {round(correlation[0],2)}.\")\n",
    "(slope, intercept, rvalue, pvalue, stderr) = linregress(mouse_weight, avg_vols)\n",
    "regress_values = mouse_weight * slope + intercept\n",
    "line_eq = \"y = \" + str(round(slope,2)) + \"x + \" + str(round(intercept,2))\n",
    "plt.scatter(mouse_weight, avg_vols)\n",
    "plt.plot(mouse_weight,regress_values,\"r-\")\n",
    "plt.annotate(line_eq,(20,38),fontsize=10,color=\"purple\")\n",
    "plt.title(\"Capomulin Weight vs Average Tumor Volume\")\n",
    "plt.ylabel('Average Tumor Volume (mm3)')\n",
    "plt.xlabel('Weight (g)')\n",
    "plt.show()"
   ]
  }
 ],
 "metadata": {
  "anaconda-cloud": {},
  "kernelspec": {
   "display_name": "Python 3",
   "language": "python",
   "name": "python3"
  },
  "language_info": {
   "codemirror_mode": {
    "name": "ipython",
    "version": 3
   },
   "file_extension": ".py",
   "mimetype": "text/x-python",
   "name": "python",
   "nbconvert_exporter": "python",
   "pygments_lexer": "ipython3",
   "version": "3.7.4"
  }
 },
 "nbformat": 4,
 "nbformat_minor": 2
}
